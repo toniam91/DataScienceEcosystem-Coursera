{
 "cells": [
  {
   "cell_type": "markdown",
   "id": "0e22592c-b937-42c2-8fec-00483feaca2e",
   "metadata": {},
   "source": [
    "# Data Science Tools and Ecosystem"
   ]
  },
  {
   "cell_type": "markdown",
   "id": "62799816-3754-4952-a89c-657eaae74b98",
   "metadata": {},
   "source": [
    "In this notebook, Data Science Tools and Ecosystem are summarized.\r\n"
   ]
  },
  {
   "cell_type": "markdown",
   "id": "8d743a72-8ebd-4d27-943f-b75e4737e066",
   "metadata": {},
   "source": [
    "**Objectives**\n",
    "+ List popular languages for Data Science\n",
    "+ List libraries for Data Science\n",
    "+ List Open Source Data Science tools"
   ]
  },
  {
   "cell_type": "markdown",
   "id": "bbdc4deb-a1f3-4070-a167-5973f2fc1950",
   "metadata": {},
   "source": [
    "Some of the popular languages that Data Scientists use are:\n",
    "1. Python\n",
    "2. R\n",
    "3. SQL\n",
    "4. Julia\n"
   ]
  },
  {
   "cell_type": "markdown",
   "id": "0c31e5d6-7291-442c-8c9f-b3af1a0804c9",
   "metadata": {},
   "source": [
    "Some of the commonly used libraries used by Data Scientists include:\n",
    "\n",
    "1. Matplotlib\n",
    "2. PyTorch\n",
    "3. Pandas\n",
    "4. TensorFlow"
   ]
  },
  {
   "cell_type": "markdown",
   "id": "ba3f4199-36e9-4972-ac6a-c689c5c87f0a",
   "metadata": {},
   "source": [
    "Create a markdown cell with a table of Data Science tools\n",
    "\n",
    " |Data Science Tools|\n",
    " |------------------|\n",
    " |Jupyter Notebooks|\n",
    " |Zeppelin Notebooks|\n",
    " |R Studio|"
   ]
  },
  {
   "cell_type": "markdown",
   "id": "15f10f18-be9f-405e-b8f2-7244eada54e2",
   "metadata": {},
   "source": [
    "### Below are a few examples of evaluating arithmetic expressions in Python.\n"
   ]
  },
  {
   "cell_type": "code",
   "execution_count": 2,
   "id": "99a2e2c1-2a8d-43c8-8c5f-d0231c7b949a",
   "metadata": {},
   "outputs": [
    {
     "data": {
      "text/plain": [
       "17"
      ]
     },
     "execution_count": 2,
     "metadata": {},
     "output_type": "execute_result"
    }
   ],
   "source": [
    "#This a simple arithmetic expression to mutiply then add integers\n",
    "(3*4)+5"
   ]
  },
  {
   "cell_type": "code",
   "execution_count": 3,
   "id": "a678103f-62c7-4d67-853c-18aaf8873b82",
   "metadata": {},
   "outputs": [
    {
     "data": {
      "text/plain": [
       "3.3333333333333335"
      ]
     },
     "execution_count": 3,
     "metadata": {},
     "output_type": "execute_result"
    }
   ],
   "source": [
    "#This will convert 200 minutes to hours by diving by 60\n",
    "200/60"
   ]
  },
  {
   "cell_type": "markdown",
   "id": "56426d0f-b00d-4df5-a3b9-4b027fcc1e31",
   "metadata": {},
   "source": [
    "## Author\n",
    "Toni Arias"
   ]
  },
  {
   "cell_type": "code",
   "execution_count": null,
   "id": "f2bb69aa-975b-4d9b-9c85-da0c673f3508",
   "metadata": {},
   "outputs": [],
   "source": []
  }
 ],
 "metadata": {
  "kernelspec": {
   "display_name": "Python 3 (ipykernel)",
   "language": "python",
   "name": "python3"
  },
  "language_info": {
   "codemirror_mode": {
    "name": "ipython",
    "version": 3
   },
   "file_extension": ".py",
   "mimetype": "text/x-python",
   "name": "python",
   "nbconvert_exporter": "python",
   "pygments_lexer": "ipython3",
   "version": "3.11.7"
  }
 },
 "nbformat": 4,
 "nbformat_minor": 5
}
